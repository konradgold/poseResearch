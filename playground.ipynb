{
 "cells": [
  {
   "cell_type": "code",
   "execution_count": 14,
   "id": "4ff9922b",
   "metadata": {},
   "outputs": [
    {
     "ename": "KeyError",
     "evalue": "'n_codebook'",
     "output_type": "error",
     "traceback": [
      "\u001b[31m---------------------------------------------------------------------------\u001b[39m",
      "\u001b[31mKeyError\u001b[39m                                  Traceback (most recent call last)",
      "\u001b[36mCell\u001b[39m\u001b[36m \u001b[39m\u001b[32mIn[14]\u001b[39m\u001b[32m, line 3\u001b[39m\n\u001b[32m      1\u001b[39m \u001b[38;5;28;01mfrom\u001b[39;00m\u001b[38;5;250m \u001b[39m\u001b[34;01mPoseGPT\u001b[39;00m\u001b[34;01m.\u001b[39;00m\u001b[34;01mmodels\u001b[39;00m\u001b[34;01m.\u001b[39;00m\u001b[34;01mposeGPT\u001b[39;00m\u001b[38;5;250m \u001b[39m\u001b[38;5;28;01mimport\u001b[39;00m poseGPT\n\u001b[32m----> \u001b[39m\u001b[32m3\u001b[39m model = \u001b[43mposeGPT\u001b[49m\u001b[43m(\u001b[49m\u001b[43mn_e\u001b[49m\u001b[43m=\u001b[49m\u001b[32;43m10\u001b[39;49m\u001b[43m,\u001b[49m\u001b[43m \u001b[49m\u001b[43mgpt_blocksize\u001b[49m\u001b[43m=\u001b[49m\u001b[32;43m12\u001b[39;49m\u001b[43m,\u001b[49m\u001b[43mgpt_nhead\u001b[49m\u001b[43m=\u001b[49m\u001b[32;43m12\u001b[39;49m\u001b[43m,\u001b[49m\u001b[43m \u001b[49m\u001b[43mgpt_nlayer\u001b[49m\u001b[43m=\u001b[49m\u001b[32;43m12\u001b[39;49m\u001b[43m,\u001b[49m\u001b[43m \u001b[49m\u001b[43mgpt_nembd\u001b[49m\u001b[43m=\u001b[49m\u001b[32;43m100\u001b[39;49m\u001b[43m,\u001b[49m\u001b[43m \u001b[49m\u001b[43mcausal_gpt\u001b[49m\u001b[43m=\u001b[49m\u001b[38;5;28;43;01mFalse\u001b[39;49;00m\u001b[43m,\u001b[49m\u001b[43m \u001b[49m\u001b[43mvqvae\u001b[49m\u001b[43m=\u001b[49m\u001b[32;43m12\u001b[39;49m\u001b[43m)\u001b[49m\n",
      "\u001b[36mFile \u001b[39m\u001b[32m/Volumes/KG1TB/Developement/poseResearch/PoseGPT/models/poseGPT.py:200\u001b[39m, in \u001b[36mposeGPT.__init__\u001b[39m\u001b[34m(self, n_e, gpt_nembd, gpt_blocksize, gpt_nhead, gpt_nlayer, vqvae, causal_gpt, **kwargs)\u001b[39m\n\u001b[32m    193\u001b[39m \u001b[38;5;28;01mdef\u001b[39;00m\u001b[38;5;250m \u001b[39m\u001b[34m__init__\u001b[39m(\u001b[38;5;28mself\u001b[39m, *, n_e, gpt_nembd, gpt_blocksize, gpt_nhead, gpt_nlayer, vqvae, causal_gpt, **kwargs):\n\u001b[32m    194\u001b[39m     \u001b[38;5;28msuper\u001b[39m(poseGPT, \u001b[38;5;28mself\u001b[39m).\u001b[34m__init__\u001b[39m()\n\u001b[32m    195\u001b[39m     gpt_config = {\u001b[33m'\u001b[39m\u001b[33mvocab_size\u001b[39m\u001b[33m'\u001b[39m: n_e,\n\u001b[32m    196\u001b[39m                   \u001b[33m'\u001b[39m\u001b[33mblock_size\u001b[39m\u001b[33m'\u001b[39m: gpt_blocksize,\n\u001b[32m    197\u001b[39m                   \u001b[33m'\u001b[39m\u001b[33mn_layer\u001b[39m\u001b[33m'\u001b[39m: gpt_nlayer,\n\u001b[32m    198\u001b[39m                   \u001b[33m'\u001b[39m\u001b[33mn_head\u001b[39m\u001b[33m'\u001b[39m: gpt_nhead,\n\u001b[32m    199\u001b[39m                   \u001b[33m'\u001b[39m\u001b[33mn_embd\u001b[39m\u001b[33m'\u001b[39m: gpt_nembd,\n\u001b[32m--> \u001b[39m\u001b[32m200\u001b[39m                   \u001b[33m'\u001b[39m\u001b[33mn_codebook\u001b[39m\u001b[33m'\u001b[39m: \u001b[43mkwargs\u001b[49m\u001b[43m[\u001b[49m\u001b[33;43m'\u001b[39;49m\u001b[33;43mn_codebook\u001b[39;49m\u001b[33;43m'\u001b[39;49m\u001b[43m]\u001b[49m,\n\u001b[32m    201\u001b[39m                   \u001b[33m'\u001b[39m\u001b[33membd_pdrop\u001b[39m\u001b[33m'\u001b[39m: kwargs[\u001b[33m'\u001b[39m\u001b[33mgpt_embd_pdrop\u001b[39m\u001b[33m'\u001b[39m],\n\u001b[32m    202\u001b[39m                   \u001b[33m'\u001b[39m\u001b[33mresid_pdrop\u001b[39m\u001b[33m'\u001b[39m: kwargs[\u001b[33m'\u001b[39m\u001b[33mgpt_resid_pdrop\u001b[39m\u001b[33m'\u001b[39m],\n\u001b[32m    203\u001b[39m                   \u001b[33m'\u001b[39m\u001b[33mattn_pdrop\u001b[39m\u001b[33m'\u001b[39m: kwargs[\u001b[33m'\u001b[39m\u001b[33mgpt_attn_pdrop\u001b[39m\u001b[33m'\u001b[39m],\n\u001b[32m    204\u001b[39m                   \u001b[33m'\u001b[39m\u001b[33membed_every_step\u001b[39m\u001b[33m'\u001b[39m: kwargs[\u001b[33m'\u001b[39m\u001b[33membed_every_step\u001b[39m\u001b[33m'\u001b[39m],\n\u001b[32m    205\u001b[39m                   \u001b[33m'\u001b[39m\u001b[33membed_seqlen\u001b[39m\u001b[33m'\u001b[39m: kwargs[\u001b[33m'\u001b[39m\u001b[33mseqlen_conditional\u001b[39m\u001b[33m'\u001b[39m],\n\u001b[32m    206\u001b[39m                   \u001b[33m'\u001b[39m\u001b[33mconcat_emb\u001b[39m\u001b[33m'\u001b[39m: kwargs[\u001b[33m'\u001b[39m\u001b[33mconcat_emb\u001b[39m\u001b[33m'\u001b[39m],\n\u001b[32m    207\u001b[39m                   \u001b[33m'\u001b[39m\u001b[33mhead_type\u001b[39m\u001b[33m'\u001b[39m: kwargs[\u001b[33m'\u001b[39m\u001b[33mhead_type\u001b[39m\u001b[33m'\u001b[39m],\n\u001b[32m    208\u001b[39m                   \u001b[33m'\u001b[39m\u001b[33mpos_emb\u001b[39m\u001b[33m'\u001b[39m: kwargs[\u001b[33m'\u001b[39m\u001b[33mpos_emb\u001b[39m\u001b[33m'\u001b[39m],\n\u001b[32m    209\u001b[39m                   \u001b[33m'\u001b[39m\u001b[33mcausal\u001b[39m\u001b[33m'\u001b[39m: causal_gpt,\n\u001b[32m    210\u001b[39m                   \u001b[33m'\u001b[39m\u001b[33mclass_conditional\u001b[39m\u001b[33m'\u001b[39m: kwargs[\u001b[33m'\u001b[39m\u001b[33mclass_conditional\u001b[39m\u001b[33m'\u001b[39m],\n\u001b[32m    211\u001b[39m                   \u001b[33m'\u001b[39m\u001b[33mgen_eos\u001b[39m\u001b[33m'\u001b[39m: kwargs[\u001b[33m'\u001b[39m\u001b[33mgen_eos\u001b[39m\u001b[33m'\u001b[39m]}\n\u001b[32m    212\u001b[39m     \u001b[38;5;66;03m#self.continuous = continuous\u001b[39;00m\n\u001b[32m    213\u001b[39m     \u001b[38;5;28mself\u001b[39m.causal = causal_gpt\n",
      "\u001b[31mKeyError\u001b[39m: 'n_codebook'"
     ]
    }
   ],
   "source": [
    "from PoseGPT.models.poseGPT import poseGPT\n",
    "\n",
    "model = poseGPT(n_e=10, gpt_blocksize=12,gpt_nhead=12, gpt_nlayer=12, gpt_nembd=100, causal_gpt=False, vqvae=12)"
   ]
  },
  {
   "cell_type": "code",
   "execution_count": 9,
   "id": "4c6d14f1",
   "metadata": {},
   "outputs": [],
   "source": [
    "import torch\n",
    "out = model.forward(torch.randint(0,10,(2,1,1)))"
   ]
  },
  {
   "cell_type": "code",
   "execution_count": 13,
   "id": "8c4e67dc",
   "metadata": {},
   "outputs": [
    {
     "data": {
      "text/plain": [
       "torch.Size([2, 2, 1, 12])"
      ]
     },
     "execution_count": 13,
     "metadata": {},
     "output_type": "execute_result"
    }
   ],
   "source": [
    "out.size()"
   ]
  }
 ],
 "metadata": {
  "kernelspec": {
   "display_name": ".venv",
   "language": "python",
   "name": "python3"
  },
  "language_info": {
   "codemirror_mode": {
    "name": "ipython",
    "version": 3
   },
   "file_extension": ".py",
   "mimetype": "text/x-python",
   "name": "python",
   "nbconvert_exporter": "python",
   "pygments_lexer": "ipython3",
   "version": "3.13.2"
  }
 },
 "nbformat": 4,
 "nbformat_minor": 5
}
