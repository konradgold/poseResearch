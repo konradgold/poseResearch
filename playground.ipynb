{
 "cells": [
  {
   "cell_type": "code",
   "execution_count": 1,
   "id": "4ff9922b",
   "metadata": {},
   "outputs": [
    {
     "name": "stdout",
     "output_type": "stream",
     "text": [
      "Codebook 0: [128, 256]\n",
      "number of parameters: %e 3024974\n"
     ]
    }
   ],
   "source": [
    "from PoseGPT.models.poseGPT import poseGPT\n",
    "from PoseGPT.models.transformer_vqvae import TransformerVQVAE\n",
    "\n",
    "vqvae = TransformerVQVAE(seq_len=12)\n",
    "\n",
    "model = poseGPT(n_e=10, gpt_blocksize=12,gpt_nhead=12, gpt_nlayer=12, gpt_nembd=144, causal_gpt=False,\n",
    "                vqvae=vqvae, n_codebook=100, gpt_embd_pdrop=0., gpt_resid_pdrop=0., gpt_attn_pdrop=0.,\n",
    "                embed_every_step=False, seqlen_conditional=12, concat_emb=True, head_type=\"fc_wo_bias\", pos_emb=\"scratch\", class_conditional=True,gen_eos=True,autoreg_pq=False,\n",
    "                action_emb='scratch', eos_force=0, seqlen_emb=\"scratch\",factor=1)"
   ]
  },
  {
   "cell_type": "code",
   "execution_count": 6,
   "id": "bdba0f11",
   "metadata": {},
   "outputs": [
    {
     "ename": "",
     "evalue": "",
     "output_type": "error",
     "traceback": [
      "\u001b[1;31mThe Kernel crashed while executing code in the current cell or a previous cell. \n",
      "\u001b[1;31mPlease review the code in the cell(s) to identify a possible cause of the failure. \n",
      "\u001b[1;31mClick <a href='https://aka.ms/vscodeJupyterKernelCrash'>here</a> for more info. \n",
      "\u001b[1;31mView Jupyter <a href='command:jupyter.viewOutput'>log</a> for further details."
     ]
    }
   ],
   "source": [
    "import torch\n",
    "model.sample_poses(zidx=None, x=torch.rand(3,3,1024), valid=torch.ones(3,384))"
   ]
  },
  {
   "cell_type": "code",
   "execution_count": null,
   "id": "4c6d14f1",
   "metadata": {},
   "outputs": [],
   "source": [
    "import torch\n",
    "out = model.forward(torch.randint(0,10,(2,1,1)))"
   ]
  },
  {
   "cell_type": "code",
   "execution_count": null,
   "id": "8c4e67dc",
   "metadata": {},
   "outputs": [
    {
     "data": {
      "text/plain": [
       "torch.Size([2, 2, 1, 12])"
      ]
     },
     "execution_count": 13,
     "metadata": {},
     "output_type": "execute_result"
    }
   ],
   "source": [
    "out.size()"
   ]
  }
 ],
 "metadata": {
  "kernelspec": {
   "display_name": ".venv",
   "language": "python",
   "name": "python3"
  },
  "language_info": {
   "codemirror_mode": {
    "name": "ipython",
    "version": 3
   },
   "file_extension": ".py",
   "mimetype": "text/x-python",
   "name": "python",
   "nbconvert_exporter": "python",
   "pygments_lexer": "ipython3",
   "version": "3.13.2"
  }
 },
 "nbformat": 4,
 "nbformat_minor": 5
}
