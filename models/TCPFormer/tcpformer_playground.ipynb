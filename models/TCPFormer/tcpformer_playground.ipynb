{
 "cells": [
  {
   "cell_type": "code",
   "execution_count": 1,
   "id": "fa6f3d75",
   "metadata": {},
   "outputs": [
    {
     "name": "stderr",
     "output_type": "stream",
     "text": [
      "/Volumes/KG1TB/Developement/poseResearch/.venv/lib/python3.13/site-packages/timm/models/layers/__init__.py:48: FutureWarning: Importing from timm.models.layers is deprecated, please import via timm.layers\n",
      "  warnings.warn(f\"Importing from {__name__} is deprecated, please import via timm.layers\", FutureWarning)\n"
     ]
    }
   ],
   "source": [
    "from utils.tools import get_config\n",
    "from train import parse_args\n",
    "from utils.learning import load_model_TCPFormer\n",
    "\n",
    "args = parse_args()\n",
    "args = get_config(args.config)\n",
    "model = load_model_TCPFormer(args)"
   ]
  },
  {
   "cell_type": "code",
   "execution_count": null,
   "id": "d14d5e42",
   "metadata": {},
   "outputs": [],
   "source": [
    "model()"
   ]
  },
  {
   "cell_type": "code",
   "execution_count": 3,
   "id": "52f28f95",
   "metadata": {},
   "outputs": [],
   "source": [
    "from utils.tools import get_config\n",
    "from train import parse_args\n",
    "from utils.learning import load_model_TCPFormer\n",
    "\n",
    "args = parse_args()\n",
    "args = get_config(args.config)\n",
    "args.dim_in = 2\n",
    "args.model_name = \"MemoryInducedTransformerPipe\"\n",
    "args.yolomodel = \"yolo11n-pose.pt\"\n",
    "tcpformer = load_model_TCPFormer(args)"
   ]
  },
  {
   "cell_type": "code",
   "execution_count": 7,
   "id": "2464978d",
   "metadata": {},
   "outputs": [
    {
     "name": "stdout",
     "output_type": "stream",
     "text": [
      "\n",
      "image 1/5 /Volumes/KG1TB/data/images_testSet/interactive4_t3/test/img-000286.png: 544x640 2 persons, 58.0ms\n",
      "image 2/5 /Volumes/KG1TB/data/images_testSet/interactive4_t3/test/img-000287.png: 544x640 2 persons, 53.2ms\n",
      "image 3/5 /Volumes/KG1TB/data/images_testSet/interactive4_t3/test/img-000288.png: 544x640 2 persons, 49.5ms\n",
      "image 4/5 /Volumes/KG1TB/data/images_testSet/interactive4_t3/test/img-000289.png: 544x640 2 persons, 51.8ms\n",
      "image 5/5 /Volumes/KG1TB/data/images_testSet/interactive4_t3/test/img-000290.png: 544x640 2 persons, 44.9ms\n",
      "Speed: 2.2ms preprocess, 51.5ms inference, 0.7ms postprocess per image at shape (1, 3, 544, 640)\n"
     ]
    }
   ],
   "source": [
    "out = tcpformer(\"/Volumes/KG1TB/data/images_testSet/interactive4_t3/test\")"
   ]
  },
  {
   "cell_type": "code",
   "execution_count": 9,
   "id": "90e061e7",
   "metadata": {},
   "outputs": [
    {
     "data": {
      "text/plain": [
       "tensor([[[ 0.3072,  0.0119,  0.1615],\n",
       "         [ 0.2952,  0.0115,  0.1568],\n",
       "         [ 0.2995,  0.0116,  0.1585],\n",
       "         [ 0.2900,  0.0113,  0.1547],\n",
       "         [-0.1618, -0.1030,  0.2219],\n",
       "         [ 0.3280,  0.0128,  0.1692],\n",
       "         [ 0.3517,  0.0139,  0.1774],\n",
       "         [ 0.3299,  0.0129,  0.1698],\n",
       "         [ 0.3837,  0.0156,  0.1873],\n",
       "         [ 0.3203,  0.0125,  0.1664],\n",
       "         [ 0.4000,  0.0165,  0.1918],\n",
       "         [ 0.4571,  0.0199,  0.2046],\n",
       "         [ 0.4767,  0.0212,  0.2078],\n",
       "         [ 0.5229,  0.0239,  0.2127],\n",
       "         [ 0.5437,  0.0250,  0.2137],\n",
       "         [ 0.5681,  0.0260,  0.2137],\n",
       "         [ 0.5865,  0.0264,  0.2129]],\n",
       "\n",
       "        [[ 0.3067,  0.0119,  0.1613],\n",
       "         [ 0.2947,  0.0114,  0.1566],\n",
       "         [ 0.2992,  0.0116,  0.1584],\n",
       "         [ 0.2895,  0.0113,  0.1545],\n",
       "         [-0.1618, -0.1030,  0.2219],\n",
       "         [ 0.3277,  0.0128,  0.1691],\n",
       "         [ 0.3513,  0.0139,  0.1773],\n",
       "         [ 0.3299,  0.0129,  0.1699],\n",
       "         [ 0.3831,  0.0156,  0.1871],\n",
       "         [ 0.3210,  0.0125,  0.1666],\n",
       "         [ 0.4005,  0.0165,  0.1920],\n",
       "         [ 0.4567,  0.0199,  0.2045],\n",
       "         [ 0.4763,  0.0211,  0.2077],\n",
       "         [ 0.5234,  0.0239,  0.2128],\n",
       "         [ 0.5442,  0.0250,  0.2137],\n",
       "         [ 0.5681,  0.0260,  0.2137],\n",
       "         [ 0.5870,  0.0264,  0.2129]],\n",
       "\n",
       "        [[ 0.3069,  0.0119,  0.1614],\n",
       "         [ 0.2947,  0.0114,  0.1566],\n",
       "         [ 0.2993,  0.0116,  0.1584],\n",
       "         [ 0.2892,  0.0112,  0.1544],\n",
       "         [-0.1618, -0.1030,  0.2219],\n",
       "         [ 0.3279,  0.0128,  0.1692],\n",
       "         [ 0.3512,  0.0139,  0.1772],\n",
       "         [ 0.3312,  0.0129,  0.1703],\n",
       "         [ 0.3838,  0.0156,  0.1873],\n",
       "         [ 0.3206,  0.0125,  0.1664],\n",
       "         [ 0.4020,  0.0166,  0.1924],\n",
       "         [ 0.4582,  0.0200,  0.2047],\n",
       "         [ 0.4775,  0.0212,  0.2079],\n",
       "         [ 0.5243,  0.0240,  0.2128],\n",
       "         [ 0.5448,  0.0250,  0.2137],\n",
       "         [ 0.5679,  0.0259,  0.2137],\n",
       "         [ 0.5870,  0.0264,  0.2129]],\n",
       "\n",
       "        [[ 0.3070,  0.0119,  0.1614],\n",
       "         [ 0.2949,  0.0115,  0.1567],\n",
       "         [ 0.2994,  0.0116,  0.1585],\n",
       "         [ 0.2896,  0.0113,  0.1546],\n",
       "         [-0.1618, -0.1030,  0.2219],\n",
       "         [ 0.3281,  0.0128,  0.1692],\n",
       "         [ 0.3513,  0.0139,  0.1772],\n",
       "         [ 0.3315,  0.0130,  0.1704],\n",
       "         [ 0.3837,  0.0156,  0.1873],\n",
       "         [ 0.3216,  0.0125,  0.1668],\n",
       "         [ 0.4056,  0.0168,  0.1933],\n",
       "         [ 0.4570,  0.0199,  0.2045],\n",
       "         [ 0.4762,  0.0211,  0.2077],\n",
       "         [ 0.5241,  0.0240,  0.2128],\n",
       "         [ 0.5444,  0.0250,  0.2137],\n",
       "         [ 0.5682,  0.0260,  0.2137],\n",
       "         [ 0.5868,  0.0264,  0.2129]],\n",
       "\n",
       "        [[ 0.3062,  0.0119,  0.1611],\n",
       "         [ 0.2940,  0.0114,  0.1563],\n",
       "         [ 0.2986,  0.0116,  0.1581],\n",
       "         [ 0.2890,  0.0112,  0.1543],\n",
       "         [-0.1618, -0.1030,  0.2219],\n",
       "         [ 0.3276,  0.0128,  0.1690],\n",
       "         [ 0.3515,  0.0139,  0.1773],\n",
       "         [ 0.3300,  0.0129,  0.1699],\n",
       "         [ 0.3836,  0.0156,  0.1873],\n",
       "         [ 0.3234,  0.0126,  0.1675],\n",
       "         [ 0.4031,  0.0167,  0.1927],\n",
       "         [ 0.4559,  0.0199,  0.2043],\n",
       "         [ 0.4759,  0.0211,  0.2077],\n",
       "         [ 0.5229,  0.0239,  0.2127],\n",
       "         [ 0.5437,  0.0250,  0.2137],\n",
       "         [ 0.5677,  0.0259,  0.2137],\n",
       "         [ 0.5870,  0.0264,  0.2129]]], grad_fn=<SqueezeBackward0>)"
      ]
     },
     "execution_count": 9,
     "metadata": {},
     "output_type": "execute_result"
    }
   ],
   "source": [
    "out.squeeze()\n"
   ]
  }
 ],
 "metadata": {
  "kernelspec": {
   "display_name": ".venv",
   "language": "python",
   "name": "python3"
  },
  "language_info": {
   "codemirror_mode": {
    "name": "ipython",
    "version": 3
   },
   "file_extension": ".py",
   "mimetype": "text/x-python",
   "name": "python",
   "nbconvert_exporter": "python",
   "pygments_lexer": "ipython3",
   "version": "3.13.2"
  }
 },
 "nbformat": 4,
 "nbformat_minor": 5
}
